{
  "nbformat": 4,
  "nbformat_minor": 0,
  "metadata": {
    "colab": {
      "name": "Naive_Bayes_and_SVM.ipynb",
      "version": "0.3.2",
      "provenance": [],
      "collapsed_sections": [],
      "toc_visible": true
    },
    "language_info": {
      "name": "python",
      "version": "3.6.6",
      "mimetype": "text/x-python",
      "codemirror_mode": {
        "name": "ipython",
        "version": 3
      },
      "pygments_lexer": "ipython3",
      "nbconvert_exporter": "python",
      "file_extension": ".py"
    },
    "kernelspec": {
      "name": "python3",
      "display_name": "Python 3"
    },
    "accelerator": "TPU"
  },
  "cells": [
    {
      "metadata": {
        "_uuid": "8f2839f25d086af736a60e9eeb907d3b93b6e0e5",
        "_cell_guid": "b1076dfc-b9ad-4769-8c92-a6c4dae69d19",
        "trusted": true,
        "id": "yJ4yFG4G76Vi",
        "colab_type": "code",
        "colab": {}
      },
      "cell_type": "code",
      "source": [
        "\n",
        "import numpy as np # linear algebra\n",
        "import pandas as pd # data processing, CSV file I/O (e.g. pd.read_csv)\n",
        "\n",
        "import matplotlib.pyplot as plt\n",
        "\n",
        "import os\n",
        "import nltk\n",
        "from nltk.corpus import stopwords\n",
        "import seaborn as sns\n",
        "from sklearn.metrics import f1_score\n",
        "from sklearn.model_selection import KFold\n",
        "from sklearn.feature_extraction.text import TfidfVectorizer,CountVectorizer\n",
        "from sklearn.linear_model import LogisticRegression\n",
        "from sklearn.model_selection import cross_val_score\n",
        "from sklearn.ensemble import RandomForestClassifier\n",
        "from sklearn.naive_bayes import GaussianNB,MultinomialNB,ComplementNB,BernoulliNB\n",
        "\n",
        "from sklearn import model_selection, naive_bayes, svm\n",
        "from sklearn.metrics import accuracy_score\n",
        "from sklearn.metrics import accuracy_score, f1_score, precision_score, recall_score, classification_report, confusion_matrix\n"
      ],
      "execution_count": 0,
      "outputs": []
    },
    {
      "metadata": {
        "_cell_guid": "79c7e3d0-c299-4dcb-8224-4455121ee9b0",
        "_uuid": "d629ff2d2480ee46fbb7e2d37f6b5fab8052498a",
        "trusted": true,
        "id": "4NzUzgrS76Vl",
        "colab_type": "code",
        "colab": {}
      },
      "cell_type": "code",
      "source": [
        "train_data = pd.read_csv('train.csv')\n"
      ],
      "execution_count": 0,
      "outputs": []
    },
    {
      "metadata": {
        "trusted": true,
        "_uuid": "faec1c3c0d18e5f0f31dbe648960eb16db5a444e",
        "id": "NEOTNdBw76Vn",
        "colab_type": "code",
        "outputId": "5ad52530-310c-4fa5-c815-3a1d18f0672d",
        "colab": {
          "base_uri": "https://localhost:8080/",
          "height": 33
        }
      },
      "cell_type": "code",
      "source": [
        "train_data.shape"
      ],
      "execution_count": 3,
      "outputs": [
        {
          "output_type": "execute_result",
          "data": {
            "text/plain": [
              "(1306122, 3)"
            ]
          },
          "metadata": {
            "tags": []
          },
          "execution_count": 3
        }
      ]
    },
    {
      "metadata": {
        "trusted": true,
        "_uuid": "5b0b213fd2d3d89d0625d940f9caee74853c621f",
        "id": "5j0z8guQ76Vp",
        "colab_type": "code",
        "colab": {}
      },
      "cell_type": "code",
      "source": [
        "train_data.head()\n",
        "train_data.dropna(inplace=True)"
      ],
      "execution_count": 0,
      "outputs": []
    },
    {
      "metadata": {
        "trusted": true,
        "_uuid": "08bdbd4b9c6ed67e6121f29f8932a01a3b56f421",
        "id": "mbMorVy576Vq",
        "colab_type": "code",
        "outputId": "108f46d5-4f4c-46c7-941b-10405a4912a3",
        "colab": {
          "base_uri": "https://localhost:8080/",
          "height": 66
        }
      },
      "cell_type": "code",
      "source": [
        "train_data['target'].value_counts()"
      ],
      "execution_count": 5,
      "outputs": [
        {
          "output_type": "execute_result",
          "data": {
            "text/plain": [
              "0    1225312\n",
              "1      80810\n",
              "Name: target, dtype: int64"
            ]
          },
          "metadata": {
            "tags": []
          },
          "execution_count": 5
        }
      ]
    },
    {
      "metadata": {
        "trusted": true,
        "_uuid": "39c379859004a1649bd74bb6c554dc857a237322",
        "id": "6AANGRGC76Vs",
        "colab_type": "code",
        "colab": {}
      },
      "cell_type": "code",
      "source": [
        "# train_data['num_words'] = train_data['question_text'].apply(lambda x: len(str(x).split()) )"
      ],
      "execution_count": 0,
      "outputs": []
    },
    {
      "metadata": {
        "id": "Lbh_OwNO8uSj",
        "colab_type": "code",
        "colab": {}
      },
      "cell_type": "code",
      "source": [
        "X = train_data[\"question_text\"].values\n",
        "y = train_data['target'].values\n"
      ],
      "execution_count": 0,
      "outputs": []
    },
    {
      "metadata": {
        "id": "3gyKJ1ub8uU9",
        "colab_type": "code",
        "colab": {}
      },
      "cell_type": "code",
      "source": [
        "from sklearn.model_selection import train_test_split\n",
        "train_X, test_X, train_y, test_y = train_test_split(X, y, stratify=y, test_size=0.25)\n",
        "train_X, val_X, train_y, val_y = train_test_split(train_X, train_y, stratify=train_y, test_size=0.1)"
      ],
      "execution_count": 0,
      "outputs": []
    },
    {
      "metadata": {
        "id": "HPLJsAkp8uX4",
        "colab_type": "code",
        "outputId": "3f2e0c45-7610-4849-e7cc-2b3ef7ff8572",
        "colab": {
          "base_uri": "https://localhost:8080/",
          "height": 66
        }
      },
      "cell_type": "code",
      "source": [
        "print(\"Train shape : \",train_X.shape)\n",
        "print(\"Validation shape : \",val_X.shape)\n",
        "print(\"Test shape : \",test_X.shape)\n"
      ],
      "execution_count": 9,
      "outputs": [
        {
          "output_type": "stream",
          "text": [
            "Train shape :  (881631,)\n",
            "Validation shape :  (97960,)\n",
            "Test shape :  (326531,)\n"
          ],
          "name": "stdout"
        }
      ]
    },
    {
      "metadata": {
        "id": "tR4E4dtr81fY",
        "colab_type": "code",
        "outputId": "83071a08-3c80-4f9a-846b-a6c94a133836",
        "colab": {
          "base_uri": "https://localhost:8080/",
          "height": 116
        }
      },
      "cell_type": "code",
      "source": [
        "unique, counts = np.unique(train_y, return_counts=True)\n",
        "print(np.asarray((unique, counts)).T)\n",
        "\n",
        "unique, counts = np.unique(val_y, return_counts=True)\n",
        "print(np.asarray((unique, counts)).T)\n",
        "\n",
        "unique, counts = np.unique(test_y, return_counts=True)\n",
        "print(np.asarray((unique, counts)).T)"
      ],
      "execution_count": 10,
      "outputs": [
        {
          "output_type": "stream",
          "text": [
            "[[     0 827085]\n",
            " [     1  54546]]\n",
            "[[    0 91899]\n",
            " [    1  6061]]\n",
            "[[     0 306328]\n",
            " [     1  20203]]\n"
          ],
          "name": "stdout"
        }
      ]
    },
    {
      "metadata": {
        "id": "uUnbAnjd81hz",
        "colab_type": "code",
        "outputId": "f0b4accb-936f-4563-8800-d8ce4320ec99",
        "colab": {
          "base_uri": "https://localhost:8080/",
          "height": 33
        }
      },
      "cell_type": "code",
      "source": [
        "testdf = pd.DataFrame()\n",
        "testdf['question'] = test_X\n",
        "\n",
        "testdf['target'] = test_y\n",
        "testdf.shape"
      ],
      "execution_count": 11,
      "outputs": [
        {
          "output_type": "execute_result",
          "data": {
            "text/plain": [
              "(326531, 2)"
            ]
          },
          "metadata": {
            "tags": []
          },
          "execution_count": 11
        }
      ]
    },
    {
      "metadata": {
        "id": "MicR5H8x81mu",
        "colab_type": "code",
        "outputId": "cc4576ba-dd5c-4713-d7a6-bd8671f7cf2e",
        "colab": {
          "base_uri": "https://localhost:8080/",
          "height": 116
        }
      },
      "cell_type": "code",
      "source": [
        "tfidf_vectorizer = TfidfVectorizer()\n",
        "tfidf_vectorizer.fit(X)\n",
        "\n",
        "count_vectorizer = CountVectorizer()\n",
        "count_vectorizer.fit(X)"
      ],
      "execution_count": 12,
      "outputs": [
        {
          "output_type": "execute_result",
          "data": {
            "text/plain": [
              "CountVectorizer(analyzer='word', binary=False, decode_error='strict',\n",
              "        dtype=<class 'numpy.int64'>, encoding='utf-8', input='content',\n",
              "        lowercase=True, max_df=1.0, max_features=None, min_df=1,\n",
              "        ngram_range=(1, 1), preprocessor=None, stop_words=None,\n",
              "        strip_accents=None, token_pattern='(?u)\\\\b\\\\w\\\\w+\\\\b',\n",
              "        tokenizer=None, vocabulary=None)"
            ]
          },
          "metadata": {
            "tags": []
          },
          "execution_count": 12
        }
      ]
    },
    {
      "metadata": {
        "id": "aCNNwpRq9HQM",
        "colab_type": "code",
        "colab": {}
      },
      "cell_type": "code",
      "source": [
        "\n",
        "train_text_features_cv = count_vectorizer.transform(train_X)\n",
        "test_text_features_cv = count_vectorizer.transform(test_X)\n",
        "\n",
        "train_text_features_tf = tfidf_vectorizer.transform(train_X)\n",
        "test_text_features_tf = tfidf_vectorizer.transform(test_X)"
      ],
      "execution_count": 0,
      "outputs": []
    },
    {
      "metadata": {
        "id": "Q7qrQQFrznKg",
        "colab_type": "code",
        "colab": {}
      },
      "cell_type": "code",
      "source": [
        "def getConfusionMatrix(y_test, y_pred):\n",
        "  # Confusion matrix\n",
        "  mat = confusion_matrix(y_test, y_pred)\n",
        "  cm = pd.DataFrame(mat)\n",
        "  TP = cm.iloc[1,1] # True Positive\n",
        "  TN = cm.iloc[0,0] # True Negative\n",
        "  FP = cm.iloc[0,1] # False Positive\n",
        "  FN = cm.iloc[1,0] # False Negative\n",
        "\n",
        "  print('Sensitivity: {:.2%}'.format(TP/(FN+TP)))\n",
        "  print('Specificity: {:.2%}'.format(TN/(FP+TN)))\n",
        "  \n",
        "  sns.heatmap(mat.T, square=True, annot=True, fmt='d', cbar=True)\n",
        "  plt.title('A confusion matrix showing the frequency of misclassifications by our classifier')\n",
        "  plt.xlabel('true label')\n",
        "  plt.ylabel('predicted label');\n",
        "  plt.show()"
      ],
      "execution_count": 0,
      "outputs": []
    },
    {
      "metadata": {
        "id": "MXFjcP16znrA",
        "colab_type": "code",
        "colab": {}
      },
      "cell_type": "code",
      "source": [
        "def getROCMetrics(y_test, y_prob_rain):\n",
        "  fpr, tpr, thresholds = roc_curve(y_test,y_prob_rain[:,1])\n",
        "\n",
        "  #ROC Curve\n",
        "  fig,ax1 = plt.subplots(figsize=(9,6))\n",
        "  ax1.plot(fpr, tpr,color='orange')\n",
        "  ax1.legend(['ROC Curve'],loc=1)\n",
        "  ax1.set_xlim([-0.005, 1.0])\n",
        "  ax1.set_ylim([0,1])\n",
        "  ax1.set_ylabel('True Positive Rate (Sensitivity)')\n",
        "  ax1.set_xlabel('False Positive Rate \\n(1 - Specificity)\\n FP / (TN + FP)')\n",
        "  ax1.set_title('ROC Curve for RainTomorrow\\n')\n",
        "\n",
        "#   plt.plot([0,1],[0,1],linestyle='--',color='teal')\n",
        "#   plt.plot([0,1],[0.5,0.5],linestyle='--',color='red',linewidth=0.25)\n",
        "\n",
        "#   #Threshold Curve\n",
        "#   ax2 = plt.gca().twinx()\n",
        "#   ax2.plot(fpr, thresholds, markeredgecolor='r',linestyle='dashed', color='black')\n",
        "#   ax2.legend(['Threshold'],loc=4)\n",
        "#   ax2.set_ylabel('Threshold',color='black')\n",
        "#   ax2.set_ylim([0,1])\n",
        "#   ax2.grid(False)\n",
        "  \n",
        "  plt.show()\n",
        "  \n",
        "  rf_auc = roc_auc_score(y_test,y_prob_rain[:,1])\n",
        "  print('AUC Score:', rf_auc*100)\n",
        "  return rf_auc*100"
      ],
      "execution_count": 0,
      "outputs": []
    },
    {
      "metadata": {
        "id": "Qww-wzfaxiZI",
        "colab_type": "text"
      },
      "cell_type": "markdown",
      "source": [
        "## **Undersampling**"
      ]
    },
    {
      "metadata": {
        "id": "7WheJAt6xiA6",
        "colab_type": "code",
        "outputId": "c142ea4e-ccf4-4c4a-ad96-1f84becf3308",
        "colab": {
          "base_uri": "https://localhost:8080/",
          "height": 33
        }
      },
      "cell_type": "code",
      "source": [
        "from collections import Counter\n",
        "from sklearn.datasets import make_classification\n",
        "\n",
        "from imblearn.under_sampling import RandomUnderSampler\n",
        "rus = RandomUnderSampler(random_state=0)\n",
        "X_resampled, y_resampled = rus.fit_resample(train_text_features_tf, train_y)\n",
        "print(sorted(Counter(y_resampled).items()))"
      ],
      "execution_count": 16,
      "outputs": [
        {
          "output_type": "stream",
          "text": [
            "[(0, 54546), (1, 54546)]\n"
          ],
          "name": "stdout"
        }
      ]
    },
    {
      "metadata": {
        "id": "_j3oopFKQRHz",
        "colab_type": "code",
        "colab": {
          "base_uri": "https://localhost:8080/",
          "height": 33
        },
        "outputId": "8c0a42a8-b423-4537-cbe8-8f448646ce61"
      },
      "cell_type": "code",
      "source": [
        "#without resampling\n",
        "\"\"\"X_resampled = train_text_features_tf\n",
        "y_resampled = train_y\"\"\""
      ],
      "execution_count": 17,
      "outputs": [
        {
          "output_type": "execute_result",
          "data": {
            "text/plain": [
              "'X_resampled = train_text_features_tf\\ny_resampled = train_y'"
            ]
          },
          "metadata": {
            "tags": []
          },
          "execution_count": 17
        }
      ]
    },
    {
      "metadata": {
        "id": "NbbcMxEvzAih",
        "colab_type": "text"
      },
      "cell_type": "markdown",
      "source": [
        "## Naive Bayes"
      ]
    },
    {
      "metadata": {
        "id": "wzeNFQ3Y9HVX",
        "colab_type": "code",
        "outputId": "f356b519-3844-490d-e035-f1a0d0d492be",
        "colab": {
          "base_uri": "https://localhost:8080/",
          "height": 33
        }
      },
      "cell_type": "code",
      "source": [
        "Naive = naive_bayes.MultinomialNB()\n",
        "Naive.fit(X_resampled, y_resampled)\n",
        "\n"
      ],
      "execution_count": 18,
      "outputs": [
        {
          "output_type": "execute_result",
          "data": {
            "text/plain": [
              "MultinomialNB(alpha=1.0, class_prior=None, fit_prior=True)"
            ]
          },
          "metadata": {
            "tags": []
          },
          "execution_count": 18
        }
      ]
    },
    {
      "metadata": {
        "id": "NgtOtpqxA689",
        "colab_type": "code",
        "outputId": "336ffd4a-1868-4cf4-a456-69d2ff0541a3",
        "colab": {
          "base_uri": "https://localhost:8080/",
          "height": 33
        }
      },
      "cell_type": "code",
      "source": [
        "# predict the labels on validation dataset\n",
        "predictions_NB = Naive.predict(test_text_features_tf)\n",
        "\n",
        "# Use accuracy_score function to get the accuracy\n",
        "print(\"Naive Bayes Accuracy Score -> \",accuracy_score(predictions_NB, test_y)*100)\n"
      ],
      "execution_count": 19,
      "outputs": [
        {
          "output_type": "stream",
          "text": [
            "Naive Bayes Accuracy Score ->  77.43920179094788\n"
          ],
          "name": "stdout"
        }
      ]
    },
    {
      "metadata": {
        "id": "IfmxQxT5yK19",
        "colab_type": "code",
        "outputId": "71da207c-f679-4e21-e499-b62f128033a6",
        "colab": {
          "base_uri": "https://localhost:8080/",
          "height": 66
        }
      },
      "cell_type": "code",
      "source": [
        "from sklearn.metrics import accuracy_score, f1_score, precision_score, recall_score, classification_report, confusion_matrix\n",
        "print(f1_score(predictions_NB, test_y, average=\"macro\"))\n",
        "print(precision_score(predictions_NB, test_y, average=\"macro\"))\n",
        "print(recall_score(predictions_NB, test_y, average=\"macro\"))"
      ],
      "execution_count": 20,
      "outputs": [
        {
          "output_type": "stream",
          "text": [
            "0.6021909121083557\n",
            "0.8522707469841835\n",
            "0.6013802104835033\n"
          ],
          "name": "stdout"
        }
      ]
    },
    {
      "metadata": {
        "id": "VznG9TKWzaMe",
        "colab_type": "code",
        "outputId": "9e17bcb8-7b5d-4bda-df7d-aabf39e719c2",
        "colab": {
          "base_uri": "https://localhost:8080/",
          "height": 327
        }
      },
      "cell_type": "code",
      "source": [
        "getConfusionMatrix(test_y, predictions_NB)"
      ],
      "execution_count": 21,
      "outputs": [
        {
          "output_type": "stream",
          "text": [
            "Sensitivity: 94.11%\n",
            "Specificity: 76.34%\n"
          ],
          "name": "stdout"
        },
        {
          "output_type": "display_data",
          "data": {
            "image/png": "[encoded data removed]",
            "text/plain": [
              "<Figure size 432x288 with 2 Axes>"
            ]
          },
          "metadata": {
            "tags": []
          }
        }
      ]
    },
    {
      "metadata": {
        "id": "f_eVdahqBRjP",
        "colab_type": "code",
        "colab": {}
      },
      "cell_type": "code",
      "source": [
        "from sklearn.metrics import accuracy_score, confusion_matrix, roc_curve, roc_auc_score"
      ],
      "execution_count": 0,
      "outputs": []
    },
    {
      "metadata": {
        "id": "nfj_tmCn0GAa",
        "colab_type": "code",
        "colab": {}
      },
      "cell_type": "code",
      "source": [
        "y_prob = Naive.predict_proba(test_text_features_tf)\n",
        "getROCMetrics(test_text_features_tf, y_prob)\n"
      ],
      "execution_count": 0,
      "outputs": []
    },
    {
      "metadata": {
        "id": "3eNJ9tI2wuoK",
        "colab_type": "code",
        "colab": {}
      },
      "cell_type": "code",
      "source": [
        ""
      ],
      "execution_count": 0,
      "outputs": []
    },
    {
      "metadata": {
        "id": "C0h9AOz0zEUn",
        "colab_type": "text"
      },
      "cell_type": "markdown",
      "source": [
        "## Support Vector Machine"
      ]
    },
    {
      "metadata": {
        "id": "d4vSQ6f_yK79",
        "colab_type": "code",
        "colab": {}
      },
      "cell_type": "code",
      "source": [
        "# Classifier - Algorithm - SVM\n",
        "# fit the training dataset on the classifier\n",
        "SVM = svm.SVC(C=1.0, kernel='linear', degree=3, gamma='auto')\n",
        "SVM.fit(X_resampled, y_resampled)\n",
        "\n"
      ],
      "execution_count": 0,
      "outputs": []
    },
    {
      "metadata": {
        "id": "ww2Y7BBB_0DM",
        "colab_type": "code",
        "colab": {}
      },
      "cell_type": "code",
      "source": [
        "# predict the labels on validation dataset\n",
        "predictions_SVM = SVM.predict(test_text_features_tf)\n",
        "\n",
        "# Use accuracy_score function to get the accuracy\n",
        "print(\"SVM Accuracy Score -> \",accuracy_score(predictions_SVM, test_y)*100)\n"
      ],
      "execution_count": 0,
      "outputs": []
    },
    {
      "metadata": {
        "id": "NpkukFClyaRk",
        "colab_type": "code",
        "colab": {}
      },
      "cell_type": "code",
      "source": [
        "print(f1_score(predictions_SVM, test_y, average=\"macro\"))\n",
        "print(precision_score(predictions_SVM, test_y, average=\"macro\"))\n",
        "print(recall_score(predictions_SVM, test_y, average=\"macro\"))"
      ],
      "execution_count": 0,
      "outputs": []
    },
    {
      "metadata": {
        "id": "pS_1bqgRw54m",
        "colab_type": "code",
        "colab": {}
      },
      "cell_type": "code",
      "source": [
        "getConfusionMatrix(test_y, predictions_SVM)"
      ],
      "execution_count": 0,
      "outputs": []
    },
    {
      "metadata": {
        "id": "8K9vWj3uOrQh",
        "colab_type": "code",
        "colab": {}
      },
      "cell_type": "code",
      "source": [
        "y_prob = SVM.predict_proba(test_text_features_tf)\n",
        "getROCMetrics(test_text_features_tf, y_prob)\n"
      ],
      "execution_count": 0,
      "outputs": []
    }
  ]
}